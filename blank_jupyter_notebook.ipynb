{
 "cells": [
  {
   "cell_type": "code",
   "execution_count": null,
   "id": "02232e3c-be5d-40c3-92f8-8a1a326c4fa7",
   "metadata": {},
   "outputs": [],
   "source": [
    "#This is a blank notebook to try whatever you need in python. \n",
    "#This is not saved until you save it manually. "
   ]
  }
 ],
 "metadata": {
  "kernelspec": {
   "display_name": "Python 3 (ipykernel)",
   "language": "python",
   "name": "python3"
  },
  "language_info": {
   "codemirror_mode": {
    "name": "ipython",
    "version": 3
   },
   "file_extension": ".py",
   "mimetype": "text/x-python",
   "name": "python",
   "nbconvert_exporter": "python",
   "pygments_lexer": "ipython3",
   "version": "3.9.18"
  }
 },
 "nbformat": 4,
 "nbformat_minor": 5
}
